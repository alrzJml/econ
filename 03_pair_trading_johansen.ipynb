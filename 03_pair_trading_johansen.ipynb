{
 "cells": [
  {
   "cell_type": "markdown",
   "id": "aca3f726",
   "metadata": {},
   "source": [
    "# Pair Trading with Johansen Cointegration\n",
    "\n",
    "This notebook demonstrates a pairs-trading strategy using the Johansen test:\n",
    "- Generate two (cointegrated) price series  \n",
    "- Test for cointegration (Johansen)  \n",
    "- Extract cointegration vector & compute spread & z-score  \n",
    "- Generate entry/exit signals  \n",
    "- Simulate P&L  \n",
    "- Plot prices, spread/z-score, and cumulative P&L"
   ]
  },
  {
   "cell_type": "code",
   "execution_count": null,
   "id": "30da9063",
   "metadata": {},
   "outputs": [],
   "source": [
    "import numpy as np\n",
    "import pandas as pd\n",
    "import matplotlib.pyplot as plt\n",
    "import statsmodels.api as sm\n",
    "from statsmodels.tsa.vector_ar.vecm import coint_johansen\n",
    "\n",
    "# For reproducibility\n",
    "np.random.seed(42)\n",
    "plt.rcParams['figure.figsize'] = (12, 5)"
   ]
  },
  {
   "cell_type": "markdown",
   "id": "e6719a40",
   "metadata": {},
   "source": [
    "## 1. Generate Synthetic Price Series\n",
    "We create:\n",
    "- `S1` as a random walk  \n",
    "- `S2` as a linear function of `S1` plus small noise (to induce cointegration)"
   ]
  },
  {
   "cell_type": "code",
   "execution_count": null,
   "id": "1f4711f4",
   "metadata": {},
   "outputs": [],
   "source": [
    "n = 500\n",
    "t = np.arange(n)\n",
    "\n",
    "# Random walk for S1\n",
    "eps1 = np.random.normal(scale=1.0, size=n)\n",
    "S1 = 100 + np.cumsum(eps1)\n",
    "\n",
    "# S2 = 0.8 * S1 + noise\n",
    "beta_true = 0.8\n",
    "eps2 = np.random.normal(scale=2.0, size=n)\n",
    "S2 = beta_true * S1 + eps2\n",
    "\n",
    "# Put into DataFrame\n",
    "df = pd.DataFrame({'S1': S1, 'S2': S2})\n",
    "df.plot(title=\"Synthetic Price Series\")\n",
    "plt.show()"
   ]
  },
  {
   "cell_type": "markdown",
   "id": "98b75bad",
   "metadata": {},
   "source": [
    "## 2. Johansen Cointegration Test\n",
    "We test for the presence of one cointegration relation between `S1` and `S2`."
   ]
  },
  {
   "cell_type": "code",
   "execution_count": null,
   "id": "fbc4cf20",
   "metadata": {},
   "outputs": [],
   "source": [
    "# Johansen test (no deterministic trend, lag diff 1)\n",
    "jres = coint_johansen(df[['S1', 'S2']], det_order=0, k_ar_diff=1)\n",
    "print(\"Trace Statistics:\", jres.lr1)\n",
    "print(\"Critical Values (90%, 95%, 99%):\\n\", jres.cvt)\n",
    "\n",
    "# Extract the first cointegration vector\n",
    "evec = jres.evec[:, 0]\n",
    "print(\"Cointegration vector:\", evec)"
   ]
  },
  {
   "cell_type": "markdown",
   "id": "ca09c5d4",
   "metadata": {},
   "source": [
    "## 3. Compute Spread & Z-Score\n",
    "The spread is the linear combination:\n",
    "\\[ \\text{spread}_t = evec[0] \\times S1_t + evec[1] \\times S2_t \\]\n",
    "We then compute its z-score."
   ]
  },
  {
   "cell_type": "code",
   "execution_count": null,
   "id": "82f03c31",
   "metadata": {},
   "outputs": [],
   "source": [
    "df['spread'] = evec[0] * df['S1'] + evec[1] * df['S2']\n",
    "df['zscore'] = (df['spread'] - df['spread'].mean()) / df['spread'].std()\n",
    "\n",
    "fig, axes = plt.subplots(2, 1, sharex=True, figsize=(12,8))\n",
    "df['spread'].plot(ax=axes[0], title='Spread')\n",
    "axes[0].axhline(df['spread'].mean(), color='black', lw=1)\n",
    "df['zscore'].plot(ax=axes[1], title='Z-score of Spread')\n",
    "axes[1].axhline( 1.0, linestyle='--')\n",
    "axes[1].axhline(-1.0, linestyle='--')\n",
    "axes[1].axhline( 0.0, linestyle='-')\n",
    "plt.show()"
   ]
  },
  {
   "cell_type": "markdown",
   "id": "6a4cc8f8",
   "metadata": {},
   "source": [
    "## 4. Generate Trading Signals\n",
    "- **Enter long spread** when z < –1  (long spread)  \n",
    "- **Enter short spread** when z > +1 (short spread)  \n",
    "- **Exit** when |z| < 0"
   ]
  },
  {
   "cell_type": "code",
   "execution_count": null,
   "id": "559ecd9d",
   "metadata": {},
   "outputs": [],
   "source": [
    "entry_z, exit_z = 1.0, 0.0\n",
    "\n",
    "df['long_spread']  = (df['zscore'] < -entry_z).astype(int)\n",
    "df['short_spread'] = (df['zscore'] >  entry_z).astype(int)\n",
    "\n",
    "# Position: +1 long spread, -1 short spread, 0 flat\n",
    "df['position'] = 0\n",
    "pos = 0\n",
    "for i in range(len(df)):\n",
    "    if pos == 0:\n",
    "        if df['long_spread'].iloc[i]: pos = +1\n",
    "        elif df['short_spread'].iloc[i]: pos = -1\n",
    "    elif pos == +1 and abs(df['zscore'].iloc[i]) < exit_z:\n",
    "        pos = 0\n",
    "    elif pos == -1 and abs(df['zscore'].iloc[i]) < exit_z:\n",
    "        pos = 0\n",
    "    df.at[df.index[i], 'position'] = pos\n",
    "\n",
    "df['position'].value_counts().sort_index()"
   ]
  },
  {
   "cell_type": "markdown",
   "id": "4266a98e",
   "metadata": {},
   "source": [
    "## 5. Simulate P&L\n",
    "Calculate daily P&L and cumulative P&L."
   ]
  },
  {
   "cell_type": "code",
   "execution_count": null,
   "id": "4af660d4",
   "metadata": {},
   "outputs": [],
   "source": [
    "df['spread_diff'] = df['spread'].diff()\n",
    "df['pnl'] = df['position'].shift(1) * df['spread_diff']\n",
    "df['cum_pnl'] = df['pnl'].cumsum().fillna(0)\n",
    "\n",
    "plt.figure(figsize=(12,4))\n",
    "df['cum_pnl'].plot(title='Cumulative P&L of Johansen Pair-Trading')\n",
    "plt.ylabel('Cumulative P&L')\n",
    "plt.show()"
   ]
  },
  {
   "cell_type": "markdown",
   "id": "2c7bfd97",
   "metadata": {},
   "source": [
    "### Summary\n",
    "- **Trace statistics** vs critical values indicate cointegration rank.  \n",
    "- **Cointegration vector** from Johansen test provides hedge ratios.  \n",
    "- **Strategy P&L** based on that vector."
   ]
  }
 ],
 "metadata": {},
 "nbformat": 4,
 "nbformat_minor": 5
}
